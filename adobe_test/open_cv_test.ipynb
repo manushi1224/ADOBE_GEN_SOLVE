{
 "cells": [
  {
   "cell_type": "markdown",
   "metadata": {},
   "source": [
    "### get svg points array from csv"
   ]
  },
  {
   "cell_type": "code",
   "execution_count": 1,
   "metadata": {},
   "outputs": [],
   "source": [
    "csv_name = \"./isolated.csv\""
   ]
  },
  {
   "cell_type": "code",
   "execution_count": 2,
   "metadata": {},
   "outputs": [],
   "source": [
    "import numpy as np\n",
    "\n",
    "csv_path = csv_name\n",
    "\n",
    "\n",
    "def read_csv(csv_path):\n",
    "    np_path_XYs = np.genfromtxt(csv_path, delimiter=\",\")\n",
    "    path_XYs = []\n",
    "    for i in np.unique(np_path_XYs[:, 0]):\n",
    "        npXYs = np_path_XYs[np_path_XYs[:, 0] == i][:, 1:]\n",
    "        XYs = []\n",
    "        for j in np.unique(npXYs[:, 0]):\n",
    "            XY = npXYs[npXYs[:, 0] == j][:, 1:]\n",
    "            XYs.append(XY)\n",
    "        path_XYs.append(XYs)\n",
    "    return path_XYs\n",
    "\n",
    "\n",
    "paths = read_csv(csv_path)"
   ]
  },
  {
   "cell_type": "markdown",
   "metadata": {},
   "source": [
    "### convert the svg to image"
   ]
  },
  {
   "cell_type": "code",
   "execution_count": 3,
   "metadata": {},
   "outputs": [],
   "source": [
    "import svgwrite\n",
    "import os\n",
    "\n",
    "os.environ[\"path\"] += r\";C:\\Program Files\\GTK3-Runtime Win64\\bin\"\n",
    "import cairosvg\n",
    "\n",
    "\n",
    "def polylines2svg(\n",
    "    paths_XYs,\n",
    "    svg_path,\n",
    "    colours=[\"yellow\"],\n",
    "):\n",
    "    W, H = 0, 0\n",
    "    for path_XYs in paths_XYs:\n",
    "        for XY in path_XYs:\n",
    "            W, H = max(W, np.max(XY[:, 0])), max(H, np.max(XY[:, 1]))\n",
    "    padding = 0.1\n",
    "    W, H = int(W + padding * W), int(H + padding * H)\n",
    "    # Create a new SVG drawing\n",
    "    dwg = svgwrite.Drawing(svg_path, profile=\"tiny\", shape_rendering=\"crispEdges\")\n",
    "    group = dwg.g()\n",
    "    for i, path in enumerate(paths_XYs):\n",
    "        path_data = []\n",
    "        c = colours[i % len(colours)]\n",
    "        for XY in path:\n",
    "            path_data.append((\"M\", (XY[0, 0], XY[0, 1])))\n",
    "            for j in range(1, len(XY)):\n",
    "                path_data.append((\"L\", (XY[j, 0], XY[j, 1])))\n",
    "            # if not np.allclose(XY[0], XY[-1]):\n",
    "            #     path_data.append((\"Z\", None))\n",
    "        group.add(dwg.path(d=path_data, fill=\"none\", stroke=c, stroke_width=2))\n",
    "    dwg.add(group)\n",
    "    dwg.save()\n",
    "    png_path = svg_path.replace(\".svg\", \".png\")\n",
    "    fact = max(1, 1024 // min(H, W))\n",
    "    cairosvg.svg2png(\n",
    "        url=svg_path,\n",
    "        write_to=png_path,\n",
    "        parent_width=W,\n",
    "        parent_height=H,\n",
    "        output_width=fact * W,\n",
    "        output_height=fact * H,\n",
    "        background_color=\"white\",\n",
    "    )\n",
    "    return\n",
    "\n",
    "\n",
    "polylines2svg(paths, \"test.svg\")"
   ]
  },
  {
   "cell_type": "code",
   "execution_count": 4,
   "metadata": {},
   "outputs": [
    {
     "name": "stdout",
     "output_type": "stream",
     "text": [
      "2.0.1\n"
     ]
    }
   ],
   "source": [
    "import numpy as np\n",
    "print(np.__version__)"
   ]
  },
  {
   "cell_type": "markdown",
   "metadata": {},
   "source": [
    "### import opencv and initialization"
   ]
  },
  {
   "cell_type": "code",
   "execution_count": 6,
   "metadata": {},
   "outputs": [],
   "source": [
    "import numpy as np\n",
    "import cv2  # Only for displaying results, not for shape detection\n",
    "\n",
    "def detect_shapes(image_path):\n",
    "    # Load the image\n",
    "    img = cv2.imread(image_path)\n",
    "\n",
    "    # Convert to HSV color space\n",
    "    hsv = cv2.cvtColor(img, cv2.COLOR_BGR2HSV)\n",
    "\n",
    "    # Define color thresholds (adjust as needed)\n",
    "    lower_yellow = np.array([20, 100, 100])\n",
    "    upper_yellow = np.array([30, 255, 255])\n",
    "\n",
    "    # Create masks\n",
    "    mask_yellow = cv2.inRange(hsv, lower_yellow, upper_yellow)\n",
    "\n",
    "    # Find contours (connected components)\n",
    "    contours, _ = cv2.findContours(mask_yellow, cv2.RETR_TREE, cv2.CHAIN_APPROX_SIMPLE)\n",
    "\n",
    "    for cnt in contours:\n",
    "        approx = cv2.approxPolyDP(cnt, 0.04 * cv2.arcLength(cnt, True), True)\n",
    "\n",
    "        # Calculate area to filter out small contours\n",
    "        area = cv2.contourArea(cnt)\n",
    "        if area < 500:  # Adjust threshold as needed\n",
    "            continue\n",
    "\n",
    "        if len(approx) == 4:\n",
    "            shape = \"square\"\n",
    "            # Draw a green square border\n",
    "            x, y, w, h = cv2.boundingRect(cnt)\n",
    "            cv2.rectangle(img, (x, y), (x + w, y + h), (0, 255, 0), 2)\n",
    "        elif len(approx) > 4 and area > 1000:  # Filter out small circles\n",
    "            shape = \"circle\"\n",
    "            # Draw a blue circle border\n",
    "            (x, y), radius = cv2.minEnclosingCircle(cnt)\n",
    "            center = (int(x), int(y))\n",
    "            radius = int(radius)\n",
    "            cv2.circle(img, center, radius, (255, 0, 0), 2)\n",
    "        else:\n",
    "            shape = \"unknown\"\n",
    "\n",
    "        # Draw label\n",
    "        x, y, w, h = cv2.boundingRect(cnt)\n",
    "        cv2.putText(img, shape, (x, y - 10), cv2.FONT_HERSHEY_SIMPLEX, 0.5, (0, 255, 0), 2)\n",
    "\n",
    "    cv2.namedWindow('Shapes', cv2.WINDOW_NORMAL)\n",
    "    cv2.resizeWindow('Shapes', 600, 600)\n",
    "    cv2.imshow(\"Shapes\", img)\n",
    "    cv2.waitKey(0)\n",
    "    cv2.destroyAllWindows()\n",
    "\n",
    "# Example usage\n",
    "image_path = \"test.png\"\n",
    "detect_shapes(image_path)\n"
   ]
  }
 ],
 "metadata": {
  "kernelspec": {
   "display_name": "Python 3",
   "language": "python",
   "name": "python3"
  },
  "language_info": {
   "codemirror_mode": {
    "name": "ipython",
    "version": 3
   },
   "file_extension": ".py",
   "mimetype": "text/x-python",
   "name": "python",
   "nbconvert_exporter": "python",
   "pygments_lexer": "ipython3",
   "version": "3.11.0"
  }
 },
 "nbformat": 4,
 "nbformat_minor": 2
}
